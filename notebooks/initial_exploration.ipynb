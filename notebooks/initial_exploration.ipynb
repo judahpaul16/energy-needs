{
 "cells": [
  {
   "cell_type": "markdown",
   "id": "27b64fda",
   "metadata": {
    "papermill": {
     "duration": 0.009747,
     "end_time": "2023-09-04T19:09:39.783604",
     "exception": false,
     "start_time": "2023-09-04T19:09:39.773857",
     "status": "completed"
    },
    "tags": []
   },
   "source": [
    "<div style=\"border-radius:0px; border:#112241 solid; padding: 15px; background-color: chetwode; font-size:100%; text-align:center\">\n",
    "<center> <h1> Introduction </h1>\n",
    "    <h3><a href=\"https://www.kaggle.com/datasets/akhiljethwa/global-electricity-statistics\">\"Global Electricity Statistics (1980-2021)\"</a></h3><hr>\n",
    "\n",
    "<center><div style=\"border-radius:0px; border:3eb489 ; padding: 12px; background-color: e6f2e6; font-size:110%; text-align:center\">This is a starter notebook guide on how to use the Global 'Electricity Statistics Data'. This dataset contains the Yearly data from 1980 to 2021 on world electricity statistics. The dataset has total of 4 features and details of each feature is given below (All the information is in the billion kWh and million kW). The notebook is mainly on how to <b>convert between datatypes</b> and filter the important values. It also contains some <b>interactive maps</b> for visualization.</div>\n"
   ]
  },
  {
   "cell_type": "code",
   "execution_count": 2,
   "id": "a34689c1",
   "metadata": {
    "execution": {
     "iopub.execute_input": "2023-09-04T19:09:55.419610Z",
     "iopub.status.busy": "2023-09-04T19:09:55.419024Z",
     "iopub.status.idle": "2023-09-04T19:09:58.575211Z",
     "shell.execute_reply": "2023-09-04T19:09:58.573938Z"
    },
    "papermill": {
     "duration": 3.171469,
     "end_time": "2023-09-04T19:09:58.578378",
     "exception": false,
     "start_time": "2023-09-04T19:09:55.406909",
     "status": "completed"
    },
    "tags": []
   },
   "outputs": [],
   "source": [
    "# For Data Analysis\n",
    "import numpy as np\n",
    "import pandas as pd\n",
    "import matplotlib.pyplot as plt\n",
    "import seaborn as sns\n",
    "\n",
    "# For Data Visualization\n",
    "import plotly.express as px\n",
    "import plotly.io as pio\n",
    "\n",
    "# Addidtional Imports\n",
    "from termcolor import colored\n",
    "import country_converter as coco\n",
    "import datetime\n",
    "import calendar"
   ]
  },
  {
   "cell_type": "code",
   "execution_count": 3,
   "id": "298888ef",
   "metadata": {
    "execution": {
     "iopub.execute_input": "2023-09-04T19:09:58.600400Z",
     "iopub.status.busy": "2023-09-04T19:09:58.599735Z",
     "iopub.status.idle": "2023-09-04T19:10:00.154112Z",
     "shell.execute_reply": "2023-09-04T19:10:00.152963Z"
    },
    "papermill": {
     "duration": 1.569043,
     "end_time": "2023-09-04T19:10:00.157485",
     "exception": false,
     "start_time": "2023-09-04T19:09:58.588442",
     "status": "completed"
    },
    "tags": []
   },
   "outputs": [],
   "source": [
    "# Set Plotly Template\n",
    "pio.templates.default = \"plotly_dark\"\n",
    "\n",
    "# If you want to explore more templates replace plotly with ['ggplot2', 'seaborn', 'simple_white', 'plotly',\n",
    "#                                                             'plotly_white', 'plotly_dark', 'presentation', 'xgridoff',\n",
    "#                                                             'ygridoff', 'gridon', 'none']"
   ]
  },
  {
   "cell_type": "code",
   "execution_count": 4,
   "id": "888e4d99",
   "metadata": {
    "execution": {
     "iopub.execute_input": "2023-09-04T19:10:00.179654Z",
     "iopub.status.busy": "2023-09-04T19:10:00.179239Z",
     "iopub.status.idle": "2023-09-04T19:10:00.268451Z",
     "shell.execute_reply": "2023-09-04T19:10:00.267305Z"
    },
    "papermill": {
     "duration": 0.10419,
     "end_time": "2023-09-04T19:10:00.271469",
     "exception": false,
     "start_time": "2023-09-04T19:10:00.167279",
     "status": "completed"
    },
    "tags": []
   },
   "outputs": [
    {
     "data": {
      "text/html": [
       "<div>\n",
       "<style scoped>\n",
       "    .dataframe tbody tr th:only-of-type {\n",
       "        vertical-align: middle;\n",
       "    }\n",
       "\n",
       "    .dataframe tbody tr th {\n",
       "        vertical-align: top;\n",
       "    }\n",
       "\n",
       "    .dataframe thead th {\n",
       "        text-align: right;\n",
       "    }\n",
       "</style>\n",
       "<table border=\"1\" class=\"dataframe\">\n",
       "  <thead>\n",
       "    <tr style=\"text-align: right;\">\n",
       "      <th></th>\n",
       "      <th>Country</th>\n",
       "      <th>Features</th>\n",
       "      <th>Region</th>\n",
       "      <th>1980</th>\n",
       "      <th>1981</th>\n",
       "      <th>1982</th>\n",
       "      <th>1983</th>\n",
       "      <th>1984</th>\n",
       "      <th>1985</th>\n",
       "      <th>1986</th>\n",
       "      <th>...</th>\n",
       "      <th>2012</th>\n",
       "      <th>2013</th>\n",
       "      <th>2014</th>\n",
       "      <th>2015</th>\n",
       "      <th>2016</th>\n",
       "      <th>2017</th>\n",
       "      <th>2018</th>\n",
       "      <th>2019</th>\n",
       "      <th>2020</th>\n",
       "      <th>2021</th>\n",
       "    </tr>\n",
       "  </thead>\n",
       "  <tbody>\n",
       "    <tr>\n",
       "      <th>0</th>\n",
       "      <td>Algeria</td>\n",
       "      <td>net generation</td>\n",
       "      <td>Africa</td>\n",
       "      <td>6.683</td>\n",
       "      <td>7.65</td>\n",
       "      <td>8.824</td>\n",
       "      <td>9.615</td>\n",
       "      <td>10.537</td>\n",
       "      <td>11.569</td>\n",
       "      <td>12.214</td>\n",
       "      <td>...</td>\n",
       "      <td>53.9845</td>\n",
       "      <td>56.3134</td>\n",
       "      <td>60.39972</td>\n",
       "      <td>64.68244</td>\n",
       "      <td>66.75504</td>\n",
       "      <td>71.49546</td>\n",
       "      <td>72.10903</td>\n",
       "      <td>76.685</td>\n",
       "      <td>72.73591277</td>\n",
       "      <td>77.53072719</td>\n",
       "    </tr>\n",
       "    <tr>\n",
       "      <th>1</th>\n",
       "      <td>Angola</td>\n",
       "      <td>net generation</td>\n",
       "      <td>Africa</td>\n",
       "      <td>0.905</td>\n",
       "      <td>0.906</td>\n",
       "      <td>0.995</td>\n",
       "      <td>1.028</td>\n",
       "      <td>1.028</td>\n",
       "      <td>1.028</td>\n",
       "      <td>1.088</td>\n",
       "      <td>...</td>\n",
       "      <td>6.03408</td>\n",
       "      <td>7.97606</td>\n",
       "      <td>9.21666</td>\n",
       "      <td>9.30914</td>\n",
       "      <td>10.203511</td>\n",
       "      <td>10.67604</td>\n",
       "      <td>12.83194</td>\n",
       "      <td>15.4</td>\n",
       "      <td>16.6</td>\n",
       "      <td>16.429392</td>\n",
       "    </tr>\n",
       "    <tr>\n",
       "      <th>2</th>\n",
       "      <td>Benin</td>\n",
       "      <td>net generation</td>\n",
       "      <td>Africa</td>\n",
       "      <td>0.005</td>\n",
       "      <td>0.005</td>\n",
       "      <td>0.005</td>\n",
       "      <td>0.005</td>\n",
       "      <td>0.005</td>\n",
       "      <td>0.005</td>\n",
       "      <td>0.005</td>\n",
       "      <td>...</td>\n",
       "      <td>0.04612</td>\n",
       "      <td>0.08848</td>\n",
       "      <td>0.22666</td>\n",
       "      <td>0.31056</td>\n",
       "      <td>0.26004</td>\n",
       "      <td>0.3115</td>\n",
       "      <td>0.19028</td>\n",
       "      <td>0.2017</td>\n",
       "      <td>0.22608</td>\n",
       "      <td>0.24109728</td>\n",
       "    </tr>\n",
       "    <tr>\n",
       "      <th>3</th>\n",
       "      <td>Botswana</td>\n",
       "      <td>net generation</td>\n",
       "      <td>Africa</td>\n",
       "      <td>0.443</td>\n",
       "      <td>0.502</td>\n",
       "      <td>0.489</td>\n",
       "      <td>0.434</td>\n",
       "      <td>0.445</td>\n",
       "      <td>0.456</td>\n",
       "      <td>0.538</td>\n",
       "      <td>...</td>\n",
       "      <td>0.33</td>\n",
       "      <td>0.86868</td>\n",
       "      <td>2.17628</td>\n",
       "      <td>2.79104</td>\n",
       "      <td>2.52984</td>\n",
       "      <td>2.8438</td>\n",
       "      <td>2.97076</td>\n",
       "      <td>3.0469</td>\n",
       "      <td>2.05144</td>\n",
       "      <td>2.18234816</td>\n",
       "    </tr>\n",
       "    <tr>\n",
       "      <th>4</th>\n",
       "      <td>Burkina Faso</td>\n",
       "      <td>net generation</td>\n",
       "      <td>Africa</td>\n",
       "      <td>0.098</td>\n",
       "      <td>0.108</td>\n",
       "      <td>0.115</td>\n",
       "      <td>0.117</td>\n",
       "      <td>0.113</td>\n",
       "      <td>0.115</td>\n",
       "      <td>0.122</td>\n",
       "      <td>...</td>\n",
       "      <td>0.86834</td>\n",
       "      <td>0.98268</td>\n",
       "      <td>1.11808</td>\n",
       "      <td>1.43986</td>\n",
       "      <td>1.5509</td>\n",
       "      <td>1.64602</td>\n",
       "      <td>1.6464</td>\n",
       "      <td>1.72552</td>\n",
       "      <td>1.647133174</td>\n",
       "      <td>1.761209666</td>\n",
       "    </tr>\n",
       "  </tbody>\n",
       "</table>\n",
       "<p>5 rows × 45 columns</p>\n",
       "</div>"
      ],
      "text/plain": [
       "                Country        Features  Region   1980   1981   1982   1983  \\\n",
       "0               Algeria  net generation  Africa  6.683   7.65  8.824  9.615   \n",
       "1                Angola  net generation  Africa  0.905  0.906  0.995  1.028   \n",
       "2                 Benin  net generation  Africa  0.005  0.005  0.005  0.005   \n",
       "3              Botswana  net generation  Africa  0.443  0.502  0.489  0.434   \n",
       "4          Burkina Faso  net generation  Africa  0.098  0.108  0.115  0.117   \n",
       "\n",
       "     1984    1985    1986  ...     2012     2013      2014      2015  \\\n",
       "0  10.537  11.569  12.214  ...  53.9845  56.3134  60.39972  64.68244   \n",
       "1   1.028   1.028   1.088  ...  6.03408  7.97606   9.21666   9.30914   \n",
       "2   0.005   0.005   0.005  ...  0.04612  0.08848   0.22666   0.31056   \n",
       "3   0.445   0.456   0.538  ...     0.33  0.86868   2.17628   2.79104   \n",
       "4   0.113   0.115   0.122  ...  0.86834  0.98268   1.11808   1.43986   \n",
       "\n",
       "        2016      2017      2018     2019         2020         2021  \n",
       "0   66.75504  71.49546  72.10903   76.685  72.73591277  77.53072719  \n",
       "1  10.203511  10.67604  12.83194     15.4         16.6    16.429392  \n",
       "2    0.26004    0.3115   0.19028   0.2017      0.22608   0.24109728  \n",
       "3    2.52984    2.8438   2.97076   3.0469      2.05144   2.18234816  \n",
       "4     1.5509   1.64602    1.6464  1.72552  1.647133174  1.761209666  \n",
       "\n",
       "[5 rows x 45 columns]"
      ]
     },
     "execution_count": 4,
     "metadata": {},
     "output_type": "execute_result"
    }
   ],
   "source": [
    "data = pd.read_csv('../datasets/global_electricity_stats.csv')\n",
    "data.head()"
   ]
  },
  {
   "cell_type": "code",
   "execution_count": 5,
   "id": "cecabc91",
   "metadata": {
    "execution": {
     "iopub.execute_input": "2023-09-04T19:10:00.292897Z",
     "iopub.status.busy": "2023-09-04T19:10:00.291748Z",
     "iopub.status.idle": "2023-09-04T19:10:00.328698Z",
     "shell.execute_reply": "2023-09-04T19:10:00.327423Z"
    },
    "papermill": {
     "duration": 0.050838,
     "end_time": "2023-09-04T19:10:00.331894",
     "exception": false,
     "start_time": "2023-09-04T19:10:00.281056",
     "status": "completed"
    },
    "tags": []
   },
   "outputs": [
    {
     "name": "stdout",
     "output_type": "stream",
     "text": [
      "<class 'pandas.core.frame.DataFrame'>\n",
      "RangeIndex: 1610 entries, 0 to 1609\n",
      "Data columns (total 45 columns):\n",
      " #   Column    Non-Null Count  Dtype \n",
      "---  ------    --------------  ----- \n",
      " 0   Country   1610 non-null   object\n",
      " 1   Features  1610 non-null   object\n",
      " 2   Region    1610 non-null   object\n",
      " 3   1980      1582 non-null   object\n",
      " 4   1981      1582 non-null   object\n",
      " 5   1982      1582 non-null   object\n",
      " 6   1983      1582 non-null   object\n",
      " 7   1984      1582 non-null   object\n",
      " 8   1985      1582 non-null   object\n",
      " 9   1986      1582 non-null   object\n",
      " 10  1987      1582 non-null   object\n",
      " 11  1988      1582 non-null   object\n",
      " 12  1989      1582 non-null   object\n",
      " 13  1990      1582 non-null   object\n",
      " 14  1991      1582 non-null   object\n",
      " 15  1992      1582 non-null   object\n",
      " 16  1993      1582 non-null   object\n",
      " 17  1994      1582 non-null   object\n",
      " 18  1995      1582 non-null   object\n",
      " 19  1996      1582 non-null   object\n",
      " 20  1997      1582 non-null   object\n",
      " 21  1998      1582 non-null   object\n",
      " 22  1999      1582 non-null   object\n",
      " 23  2000      1582 non-null   object\n",
      " 24  2001      1582 non-null   object\n",
      " 25  2002      1582 non-null   object\n",
      " 26  2003      1582 non-null   object\n",
      " 27  2004      1582 non-null   object\n",
      " 28  2005      1582 non-null   object\n",
      " 29  2006      1582 non-null   object\n",
      " 30  2007      1582 non-null   object\n",
      " 31  2008      1582 non-null   object\n",
      " 32  2009      1582 non-null   object\n",
      " 33  2010      1582 non-null   object\n",
      " 34  2011      1582 non-null   object\n",
      " 35  2012      1582 non-null   object\n",
      " 36  2013      1582 non-null   object\n",
      " 37  2014      1582 non-null   object\n",
      " 38  2015      1582 non-null   object\n",
      " 39  2016      1582 non-null   object\n",
      " 40  2017      1582 non-null   object\n",
      " 41  2018      1582 non-null   object\n",
      " 42  2019      1582 non-null   object\n",
      " 43  2020      1579 non-null   object\n",
      " 44  2021      1584 non-null   object\n",
      "dtypes: object(45)\n",
      "memory usage: 566.1+ KB\n"
     ]
    }
   ],
   "source": [
    "data.info()"
   ]
  },
  {
   "cell_type": "markdown",
   "id": "1da44670",
   "metadata": {
    "papermill": {
     "duration": 0.010298,
     "end_time": "2023-09-04T19:10:00.352689",
     "exception": false,
     "start_time": "2023-09-04T19:10:00.342391",
     "status": "completed"
    },
    "tags": []
   },
   "source": [
    "As we can see all the values are in Object datatype so we have to convert them into float, but first I am going to filter the only Net generation values of year 2021."
   ]
  },
  {
   "cell_type": "code",
   "execution_count": 6,
   "id": "87167f04",
   "metadata": {
    "execution": {
     "iopub.execute_input": "2023-09-04T19:10:00.375347Z",
     "iopub.status.busy": "2023-09-04T19:10:00.374886Z",
     "iopub.status.idle": "2023-09-04T19:10:00.404006Z",
     "shell.execute_reply": "2023-09-04T19:10:00.402730Z"
    },
    "papermill": {
     "duration": 0.044303,
     "end_time": "2023-09-04T19:10:00.407069",
     "exception": false,
     "start_time": "2023-09-04T19:10:00.362766",
     "status": "completed"
    },
    "tags": []
   },
   "outputs": [
    {
     "data": {
      "text/html": [
       "<div>\n",
       "<style scoped>\n",
       "    .dataframe tbody tr th:only-of-type {\n",
       "        vertical-align: middle;\n",
       "    }\n",
       "\n",
       "    .dataframe tbody tr th {\n",
       "        vertical-align: top;\n",
       "    }\n",
       "\n",
       "    .dataframe thead th {\n",
       "        text-align: right;\n",
       "    }\n",
       "</style>\n",
       "<table border=\"1\" class=\"dataframe\">\n",
       "  <thead>\n",
       "    <tr style=\"text-align: right;\">\n",
       "      <th></th>\n",
       "      <th>Country</th>\n",
       "      <th>Features</th>\n",
       "      <th>Region</th>\n",
       "      <th>1980</th>\n",
       "      <th>1981</th>\n",
       "      <th>1982</th>\n",
       "      <th>1983</th>\n",
       "      <th>1984</th>\n",
       "      <th>1985</th>\n",
       "      <th>1986</th>\n",
       "      <th>...</th>\n",
       "      <th>2012</th>\n",
       "      <th>2013</th>\n",
       "      <th>2014</th>\n",
       "      <th>2015</th>\n",
       "      <th>2016</th>\n",
       "      <th>2017</th>\n",
       "      <th>2018</th>\n",
       "      <th>2019</th>\n",
       "      <th>2020</th>\n",
       "      <th>2021</th>\n",
       "    </tr>\n",
       "  </thead>\n",
       "  <tbody>\n",
       "    <tr>\n",
       "      <th>0</th>\n",
       "      <td>Algeria</td>\n",
       "      <td>net generation</td>\n",
       "      <td>Africa</td>\n",
       "      <td>6.683</td>\n",
       "      <td>7.65</td>\n",
       "      <td>8.824</td>\n",
       "      <td>9.615</td>\n",
       "      <td>10.537</td>\n",
       "      <td>11.569</td>\n",
       "      <td>12.214</td>\n",
       "      <td>...</td>\n",
       "      <td>53.9845</td>\n",
       "      <td>56.3134</td>\n",
       "      <td>60.39972</td>\n",
       "      <td>64.68244</td>\n",
       "      <td>66.75504</td>\n",
       "      <td>71.49546</td>\n",
       "      <td>72.10903</td>\n",
       "      <td>76.685</td>\n",
       "      <td>72.73591277</td>\n",
       "      <td>77.53072719</td>\n",
       "    </tr>\n",
       "    <tr>\n",
       "      <th>1</th>\n",
       "      <td>Angola</td>\n",
       "      <td>net generation</td>\n",
       "      <td>Africa</td>\n",
       "      <td>0.905</td>\n",
       "      <td>0.906</td>\n",
       "      <td>0.995</td>\n",
       "      <td>1.028</td>\n",
       "      <td>1.028</td>\n",
       "      <td>1.028</td>\n",
       "      <td>1.088</td>\n",
       "      <td>...</td>\n",
       "      <td>6.03408</td>\n",
       "      <td>7.97606</td>\n",
       "      <td>9.21666</td>\n",
       "      <td>9.30914</td>\n",
       "      <td>10.203511</td>\n",
       "      <td>10.67604</td>\n",
       "      <td>12.83194</td>\n",
       "      <td>15.4</td>\n",
       "      <td>16.6</td>\n",
       "      <td>16.429392</td>\n",
       "    </tr>\n",
       "    <tr>\n",
       "      <th>2</th>\n",
       "      <td>Benin</td>\n",
       "      <td>net generation</td>\n",
       "      <td>Africa</td>\n",
       "      <td>0.005</td>\n",
       "      <td>0.005</td>\n",
       "      <td>0.005</td>\n",
       "      <td>0.005</td>\n",
       "      <td>0.005</td>\n",
       "      <td>0.005</td>\n",
       "      <td>0.005</td>\n",
       "      <td>...</td>\n",
       "      <td>0.04612</td>\n",
       "      <td>0.08848</td>\n",
       "      <td>0.22666</td>\n",
       "      <td>0.31056</td>\n",
       "      <td>0.26004</td>\n",
       "      <td>0.3115</td>\n",
       "      <td>0.19028</td>\n",
       "      <td>0.2017</td>\n",
       "      <td>0.22608</td>\n",
       "      <td>0.24109728</td>\n",
       "    </tr>\n",
       "    <tr>\n",
       "      <th>3</th>\n",
       "      <td>Botswana</td>\n",
       "      <td>net generation</td>\n",
       "      <td>Africa</td>\n",
       "      <td>0.443</td>\n",
       "      <td>0.502</td>\n",
       "      <td>0.489</td>\n",
       "      <td>0.434</td>\n",
       "      <td>0.445</td>\n",
       "      <td>0.456</td>\n",
       "      <td>0.538</td>\n",
       "      <td>...</td>\n",
       "      <td>0.33</td>\n",
       "      <td>0.86868</td>\n",
       "      <td>2.17628</td>\n",
       "      <td>2.79104</td>\n",
       "      <td>2.52984</td>\n",
       "      <td>2.8438</td>\n",
       "      <td>2.97076</td>\n",
       "      <td>3.0469</td>\n",
       "      <td>2.05144</td>\n",
       "      <td>2.18234816</td>\n",
       "    </tr>\n",
       "    <tr>\n",
       "      <th>4</th>\n",
       "      <td>Burkina Faso</td>\n",
       "      <td>net generation</td>\n",
       "      <td>Africa</td>\n",
       "      <td>0.098</td>\n",
       "      <td>0.108</td>\n",
       "      <td>0.115</td>\n",
       "      <td>0.117</td>\n",
       "      <td>0.113</td>\n",
       "      <td>0.115</td>\n",
       "      <td>0.122</td>\n",
       "      <td>...</td>\n",
       "      <td>0.86834</td>\n",
       "      <td>0.98268</td>\n",
       "      <td>1.11808</td>\n",
       "      <td>1.43986</td>\n",
       "      <td>1.5509</td>\n",
       "      <td>1.64602</td>\n",
       "      <td>1.6464</td>\n",
       "      <td>1.72552</td>\n",
       "      <td>1.647133174</td>\n",
       "      <td>1.761209666</td>\n",
       "    </tr>\n",
       "  </tbody>\n",
       "</table>\n",
       "<p>5 rows × 45 columns</p>\n",
       "</div>"
      ],
      "text/plain": [
       "                Country        Features  Region   1980   1981   1982   1983  \\\n",
       "0               Algeria  net generation  Africa  6.683   7.65  8.824  9.615   \n",
       "1                Angola  net generation  Africa  0.905  0.906  0.995  1.028   \n",
       "2                 Benin  net generation  Africa  0.005  0.005  0.005  0.005   \n",
       "3              Botswana  net generation  Africa  0.443  0.502  0.489  0.434   \n",
       "4          Burkina Faso  net generation  Africa  0.098  0.108  0.115  0.117   \n",
       "\n",
       "     1984    1985    1986  ...     2012     2013      2014      2015  \\\n",
       "0  10.537  11.569  12.214  ...  53.9845  56.3134  60.39972  64.68244   \n",
       "1   1.028   1.028   1.088  ...  6.03408  7.97606   9.21666   9.30914   \n",
       "2   0.005   0.005   0.005  ...  0.04612  0.08848   0.22666   0.31056   \n",
       "3   0.445   0.456   0.538  ...     0.33  0.86868   2.17628   2.79104   \n",
       "4   0.113   0.115   0.122  ...  0.86834  0.98268   1.11808   1.43986   \n",
       "\n",
       "        2016      2017      2018     2019         2020         2021  \n",
       "0   66.75504  71.49546  72.10903   76.685  72.73591277  77.53072719  \n",
       "1  10.203511  10.67604  12.83194     15.4         16.6    16.429392  \n",
       "2    0.26004    0.3115   0.19028   0.2017      0.22608   0.24109728  \n",
       "3    2.52984    2.8438   2.97076   3.0469      2.05144   2.18234816  \n",
       "4     1.5509   1.64602    1.6464  1.72552  1.647133174  1.761209666  \n",
       "\n",
       "[5 rows x 45 columns]"
      ]
     },
     "execution_count": 6,
     "metadata": {},
     "output_type": "execute_result"
    }
   ],
   "source": [
    "generation = data[(data['Features'] == 'net generation')]\n",
    "generation.head()"
   ]
  },
  {
   "cell_type": "code",
   "execution_count": 7,
   "id": "482d8ed8",
   "metadata": {
    "execution": {
     "iopub.execute_input": "2023-09-04T19:10:00.432650Z",
     "iopub.status.busy": "2023-09-04T19:10:00.432222Z",
     "iopub.status.idle": "2023-09-04T19:10:00.446785Z",
     "shell.execute_reply": "2023-09-04T19:10:00.445954Z"
    },
    "papermill": {
     "duration": 0.030606,
     "end_time": "2023-09-04T19:10:00.449064",
     "exception": false,
     "start_time": "2023-09-04T19:10:00.418458",
     "status": "completed"
    },
    "tags": []
   },
   "outputs": [
    {
     "data": {
      "text/html": [
       "<div>\n",
       "<style scoped>\n",
       "    .dataframe tbody tr th:only-of-type {\n",
       "        vertical-align: middle;\n",
       "    }\n",
       "\n",
       "    .dataframe tbody tr th {\n",
       "        vertical-align: top;\n",
       "    }\n",
       "\n",
       "    .dataframe thead th {\n",
       "        text-align: right;\n",
       "    }\n",
       "</style>\n",
       "<table border=\"1\" class=\"dataframe\">\n",
       "  <thead>\n",
       "    <tr style=\"text-align: right;\">\n",
       "      <th></th>\n",
       "      <th>Country</th>\n",
       "      <th>Net_Generation</th>\n",
       "    </tr>\n",
       "  </thead>\n",
       "  <tbody>\n",
       "    <tr>\n",
       "      <th>0</th>\n",
       "      <td>Algeria</td>\n",
       "      <td>77.53072719</td>\n",
       "    </tr>\n",
       "    <tr>\n",
       "      <th>1</th>\n",
       "      <td>Angola</td>\n",
       "      <td>16.429392</td>\n",
       "    </tr>\n",
       "    <tr>\n",
       "      <th>2</th>\n",
       "      <td>Benin</td>\n",
       "      <td>0.24109728</td>\n",
       "    </tr>\n",
       "    <tr>\n",
       "      <th>3</th>\n",
       "      <td>Botswana</td>\n",
       "      <td>2.18234816</td>\n",
       "    </tr>\n",
       "    <tr>\n",
       "      <th>4</th>\n",
       "      <td>Burkina Faso</td>\n",
       "      <td>1.761209666</td>\n",
       "    </tr>\n",
       "  </tbody>\n",
       "</table>\n",
       "</div>"
      ],
      "text/plain": [
       "                Country Net_Generation\n",
       "0               Algeria    77.53072719\n",
       "1                Angola      16.429392\n",
       "2                 Benin     0.24109728\n",
       "3              Botswana     2.18234816\n",
       "4          Burkina Faso    1.761209666"
      ]
     },
     "execution_count": 7,
     "metadata": {},
     "output_type": "execute_result"
    }
   ],
   "source": [
    "plot = generation.filter(['Country', '2021'], axis=1)\n",
    "plot2 = plot.rename(columns={'2021':'Net_Generation'})\n",
    "plot2.head()"
   ]
  },
  {
   "cell_type": "markdown",
   "id": "846c3cdd",
   "metadata": {
    "papermill": {
     "duration": 0.010361,
     "end_time": "2023-09-04T19:10:00.470597",
     "exception": false,
     "start_time": "2023-09-04T19:10:00.460236",
     "status": "completed"
    },
    "tags": []
   },
   "source": [
    "Now I am going to remove some of the non-usable values that have 'ie' or '--' in the field."
   ]
  },
  {
   "cell_type": "code",
   "execution_count": 8,
   "id": "211cd603",
   "metadata": {
    "execution": {
     "iopub.execute_input": "2023-09-04T19:10:00.495354Z",
     "iopub.status.busy": "2023-09-04T19:10:00.494245Z",
     "iopub.status.idle": "2023-09-04T19:10:00.512443Z",
     "shell.execute_reply": "2023-09-04T19:10:00.510866Z"
    },
    "papermill": {
     "duration": 0.033776,
     "end_time": "2023-09-04T19:10:00.515320",
     "exception": false,
     "start_time": "2023-09-04T19:10:00.481544",
     "status": "completed"
    },
    "tags": []
   },
   "outputs": [
    {
     "data": {
      "text/html": [
       "<div>\n",
       "<style scoped>\n",
       "    .dataframe tbody tr th:only-of-type {\n",
       "        vertical-align: middle;\n",
       "    }\n",
       "\n",
       "    .dataframe tbody tr th {\n",
       "        vertical-align: top;\n",
       "    }\n",
       "\n",
       "    .dataframe thead th {\n",
       "        text-align: right;\n",
       "    }\n",
       "</style>\n",
       "<table border=\"1\" class=\"dataframe\">\n",
       "  <thead>\n",
       "    <tr style=\"text-align: right;\">\n",
       "      <th></th>\n",
       "      <th>Country</th>\n",
       "      <th>Net_Generation</th>\n",
       "    </tr>\n",
       "  </thead>\n",
       "  <tbody>\n",
       "    <tr>\n",
       "      <th>0</th>\n",
       "      <td>Algeria</td>\n",
       "      <td>77.53072719</td>\n",
       "    </tr>\n",
       "    <tr>\n",
       "      <th>1</th>\n",
       "      <td>Angola</td>\n",
       "      <td>16.429392</td>\n",
       "    </tr>\n",
       "    <tr>\n",
       "      <th>2</th>\n",
       "      <td>Benin</td>\n",
       "      <td>0.24109728</td>\n",
       "    </tr>\n",
       "    <tr>\n",
       "      <th>3</th>\n",
       "      <td>Botswana</td>\n",
       "      <td>2.18234816</td>\n",
       "    </tr>\n",
       "    <tr>\n",
       "      <th>4</th>\n",
       "      <td>Burkina Faso</td>\n",
       "      <td>1.761209666</td>\n",
       "    </tr>\n",
       "  </tbody>\n",
       "</table>\n",
       "</div>"
      ],
      "text/plain": [
       "                Country Net_Generation\n",
       "0               Algeria    77.53072719\n",
       "1                Angola      16.429392\n",
       "2                 Benin     0.24109728\n",
       "3              Botswana     2.18234816\n",
       "4          Burkina Faso    1.761209666"
      ]
     },
     "execution_count": 8,
     "metadata": {},
     "output_type": "execute_result"
    }
   ],
   "source": [
    "plot2 = plot2[~plot2[\"Net_Generation\"].str.contains(\"ie\", na=False)]\n",
    "plot2 = plot2[~plot2[\"Net_Generation\"].str.contains(\"--\", na=False)]\n",
    "plot2.head()"
   ]
  },
  {
   "cell_type": "markdown",
   "id": "14738a96",
   "metadata": {
    "papermill": {
     "duration": 0.011409,
     "end_time": "2023-09-04T19:10:00.537981",
     "exception": false,
     "start_time": "2023-09-04T19:10:00.526572",
     "status": "completed"
    },
    "tags": []
   },
   "source": [
    "Finally, converting all the values into float datatype"
   ]
  },
  {
   "cell_type": "code",
   "execution_count": 9,
   "id": "34a26cb7",
   "metadata": {
    "execution": {
     "iopub.execute_input": "2023-09-04T19:10:00.563424Z",
     "iopub.status.busy": "2023-09-04T19:10:00.562954Z",
     "iopub.status.idle": "2023-09-04T19:10:00.579894Z",
     "shell.execute_reply": "2023-09-04T19:10:00.578568Z"
    },
    "papermill": {
     "duration": 0.033152,
     "end_time": "2023-09-04T19:10:00.582688",
     "exception": false,
     "start_time": "2023-09-04T19:10:00.549536",
     "status": "completed"
    },
    "tags": []
   },
   "outputs": [
    {
     "name": "stdout",
     "output_type": "stream",
     "text": [
      "<class 'pandas.core.frame.DataFrame'>\n",
      "Index: 218 entries, 0 to 229\n",
      "Data columns (total 2 columns):\n",
      " #   Column          Non-Null Count  Dtype  \n",
      "---  ------          --------------  -----  \n",
      " 0   Country         218 non-null    object \n",
      " 1   Net_Generation  215 non-null    float64\n",
      "dtypes: float64(1), object(1)\n",
      "memory usage: 5.1+ KB\n"
     ]
    }
   ],
   "source": [
    "plot2['Net_Generation'] = plot2['Net_Generation'].astype(float)\n",
    "plot2.info()"
   ]
  },
  {
   "cell_type": "markdown",
   "id": "17653361",
   "metadata": {
    "papermill": {
     "duration": 0.010285,
     "end_time": "2023-09-04T19:10:00.604010",
     "exception": false,
     "start_time": "2023-09-04T19:10:00.593725",
     "status": "completed"
    },
    "tags": []
   },
   "source": [
    "<div style=\"border-radius: 10px; background-color: #192538\">\n",
    "    <h1 style=\"color: white; padding: 1rem\">Some examples of Interactive Maps</h1>\n",
    "</div>"
   ]
  },
  {
   "cell_type": "code",
   "execution_count": 10,
   "id": "22d4d995",
   "metadata": {
    "_kg_hide-input": true,
    "execution": {
     "iopub.execute_input": "2023-09-04T19:10:00.627086Z",
     "iopub.status.busy": "2023-09-04T19:10:00.626581Z",
     "iopub.status.idle": "2023-09-04T19:10:02.003190Z",
     "shell.execute_reply": "2023-09-04T19:10:02.001003Z"
    },
    "papermill": {
     "duration": 1.391484,
     "end_time": "2023-09-04T19:10:02.006020",
     "exception": false,
     "start_time": "2023-09-04T19:10:00.614536",
     "status": "completed"
    },
    "tags": []
   },
   "outputs": [
    {
     "name": "stderr",
     "output_type": "stream",
     "text": [
      "        Samoa not found in regex\n",
      "        U.S. Pacific Islands not found in regex\n",
      "        Wake Island not found in regex\n",
      "        U.S. Territories not found in regex\n"
     ]
    },
    {
     "name": "stderr",
     "output_type": "stream",
     "text": [
      "        Netherlands Antilles not found in regex\n",
      "        Samoa not found in regex\n",
      "        U.S. Pacific Islands not found in regex\n",
      "        Wake Island not found in regex\n",
      "        U.S. Territories not found in regex\n",
      "        Netherlands Antilles not found in regex\n"
     ]
    },
    {
     "ename": "ValueError",
     "evalue": "Mime type rendering requires nbformat>=4.2.0 but it is not installed",
     "output_type": "error",
     "traceback": [
      "\u001b[1;31m---------------------------------------------------------------------------\u001b[0m",
      "\u001b[1;31mValueError\u001b[0m                                Traceback (most recent call last)",
      "\u001b[1;32mc:\\Users\\judah\\Documents\\gsu_sync\\GSU Fall 2023\\Fundementals of Data Science\\energy-needs\\notebooks\\initial_exploration.ipynb Cell 14\u001b[0m line \u001b[0;36m2\n\u001b[0;32m      <a href='vscode-notebook-cell:/c%3A/Users/judah/Documents/gsu_sync/GSU%20Fall%202023/Fundementals%20of%20Data%20Science/energy-needs/notebooks/initial_exploration.ipynb#X16sZmlsZQ%3D%3D?line=7'>8</a>\u001b[0m fig \u001b[39m=\u001b[39m px\u001b[39m.\u001b[39mchoropleth(locations \u001b[39m=\u001b[39m plot2\u001b[39m.\u001b[39mCountry,\n\u001b[0;32m      <a href='vscode-notebook-cell:/c%3A/Users/judah/Documents/gsu_sync/GSU%20Fall%202023/Fundementals%20of%20Data%20Science/energy-needs/notebooks/initial_exploration.ipynb#X16sZmlsZQ%3D%3D?line=8'>9</a>\u001b[0m                     color \u001b[39m=\u001b[39m plot2\u001b[39m.\u001b[39mNet_Generation,\n\u001b[0;32m     <a href='vscode-notebook-cell:/c%3A/Users/judah/Documents/gsu_sync/GSU%20Fall%202023/Fundementals%20of%20Data%20Science/energy-needs/notebooks/initial_exploration.ipynb#X16sZmlsZQ%3D%3D?line=9'>10</a>\u001b[0m                     range_color\u001b[39m=\u001b[39m(\u001b[39m0\u001b[39m, \u001b[39m1500\u001b[39m),\n\u001b[1;32m   (...)\u001b[0m\n\u001b[0;32m     <a href='vscode-notebook-cell:/c%3A/Users/judah/Documents/gsu_sync/GSU%20Fall%202023/Fundementals%20of%20Data%20Science/energy-needs/notebooks/initial_exploration.ipynb#X16sZmlsZQ%3D%3D?line=18'>19</a>\u001b[0m                     \u001b[39m#  focus='south america',\u001b[39;00m\n\u001b[0;32m     <a href='vscode-notebook-cell:/c%3A/Users/judah/Documents/gsu_sync/GSU%20Fall%202023/Fundementals%20of%20Data%20Science/energy-needs/notebooks/initial_exploration.ipynb#X16sZmlsZQ%3D%3D?line=19'>20</a>\u001b[0m                     title \u001b[39m=\u001b[39m \u001b[39m'\u001b[39m\u001b[39mGlobal Electricity Generation in 2021\u001b[39m\u001b[39m'\u001b[39m)\n\u001b[0;32m     <a href='vscode-notebook-cell:/c%3A/Users/judah/Documents/gsu_sync/GSU%20Fall%202023/Fundementals%20of%20Data%20Science/energy-needs/notebooks/initial_exploration.ipynb#X16sZmlsZQ%3D%3D?line=20'>21</a>\u001b[0m fig\u001b[39m.\u001b[39mupdate_layout(height\u001b[39m=\u001b[39m\u001b[39m500\u001b[39m, width\u001b[39m=\u001b[39m\u001b[39m800\u001b[39m)\n\u001b[1;32m---> <a href='vscode-notebook-cell:/c%3A/Users/judah/Documents/gsu_sync/GSU%20Fall%202023/Fundementals%20of%20Data%20Science/energy-needs/notebooks/initial_exploration.ipynb#X16sZmlsZQ%3D%3D?line=21'>22</a>\u001b[0m fig\u001b[39m.\u001b[39;49mshow()\n",
      "File \u001b[1;32mc:\\Users\\judah\\Documents\\gsu_sync\\GSU Fall 2023\\Fundementals of Data Science\\energy-needs\\env\\Lib\\site-packages\\plotly\\basedatatypes.py:3412\u001b[0m, in \u001b[0;36mBaseFigure.show\u001b[1;34m(self, *args, **kwargs)\u001b[0m\n\u001b[0;32m   3379\u001b[0m \u001b[39m\u001b[39m\u001b[39m\"\"\"\u001b[39;00m\n\u001b[0;32m   3380\u001b[0m \u001b[39mShow a figure using either the default renderer(s) or the renderer(s)\u001b[39;00m\n\u001b[0;32m   3381\u001b[0m \u001b[39mspecified by the renderer argument\u001b[39;00m\n\u001b[1;32m   (...)\u001b[0m\n\u001b[0;32m   3408\u001b[0m \u001b[39mNone\u001b[39;00m\n\u001b[0;32m   3409\u001b[0m \u001b[39m\"\"\"\u001b[39;00m\n\u001b[0;32m   3410\u001b[0m \u001b[39mimport\u001b[39;00m \u001b[39mplotly\u001b[39;00m\u001b[39m.\u001b[39;00m\u001b[39mio\u001b[39;00m \u001b[39mas\u001b[39;00m \u001b[39mpio\u001b[39;00m\n\u001b[1;32m-> 3412\u001b[0m \u001b[39mreturn\u001b[39;00m pio\u001b[39m.\u001b[39;49mshow(\u001b[39mself\u001b[39;49m, \u001b[39m*\u001b[39;49margs, \u001b[39m*\u001b[39;49m\u001b[39m*\u001b[39;49mkwargs)\n",
      "File \u001b[1;32mc:\\Users\\judah\\Documents\\gsu_sync\\GSU Fall 2023\\Fundementals of Data Science\\energy-needs\\env\\Lib\\site-packages\\plotly\\io\\_renderers.py:396\u001b[0m, in \u001b[0;36mshow\u001b[1;34m(fig, renderer, validate, **kwargs)\u001b[0m\n\u001b[0;32m    391\u001b[0m         \u001b[39mraise\u001b[39;00m \u001b[39mValueError\u001b[39;00m(\n\u001b[0;32m    392\u001b[0m             \u001b[39m\"\u001b[39m\u001b[39mMime type rendering requires ipython but it is not installed\u001b[39m\u001b[39m\"\u001b[39m\n\u001b[0;32m    393\u001b[0m         )\n\u001b[0;32m    395\u001b[0m     \u001b[39mif\u001b[39;00m \u001b[39mnot\u001b[39;00m nbformat \u001b[39mor\u001b[39;00m Version(nbformat\u001b[39m.\u001b[39m__version__) \u001b[39m<\u001b[39m Version(\u001b[39m\"\u001b[39m\u001b[39m4.2.0\u001b[39m\u001b[39m\"\u001b[39m):\n\u001b[1;32m--> 396\u001b[0m         \u001b[39mraise\u001b[39;00m \u001b[39mValueError\u001b[39;00m(\n\u001b[0;32m    397\u001b[0m             \u001b[39m\"\u001b[39m\u001b[39mMime type rendering requires nbformat>=4.2.0 but it is not installed\u001b[39m\u001b[39m\"\u001b[39m\n\u001b[0;32m    398\u001b[0m         )\n\u001b[0;32m    400\u001b[0m     ipython_display\u001b[39m.\u001b[39mdisplay(bundle, raw\u001b[39m=\u001b[39m\u001b[39mTrue\u001b[39;00m)\n\u001b[0;32m    402\u001b[0m \u001b[39m# external renderers\u001b[39;00m\n",
      "\u001b[1;31mValueError\u001b[0m: Mime type rendering requires nbformat>=4.2.0 but it is not installed"
     ]
    }
   ],
   "source": [
    "standard_names = coco.convert(names = plot2['Country'], to='name_short')\n",
    "plot2.head()\n",
    "\n",
    "country = coco.convert(names = plot2['Country'], to = \"ISO3\")\n",
    "plot2['Country'] = country\n",
    "plot2.head()\n",
    "\n",
    "fig = px.choropleth(locations = plot2.Country,\n",
    "                    color = plot2.Net_Generation,\n",
    "                    range_color=(0, 1500),\n",
    "                    color_continuous_scale = [[0, '#0d0887'],\n",
    "                      [0.01, '#46039f'],\n",
    "                      [0.03, '#7201a8'],\n",
    "                      [0.5, '#9c179e'],\n",
    "                      [0.7, '#bd3786'],\n",
    "                      [0.9, '#d8576b'],\n",
    "                      [1, '#ed7953']\n",
    "                     ],\n",
    "                    #  focus='south america',\n",
    "                    title = 'Global Electricity Generation in 2021')\n",
    "fig.update_layout(height=500, width=800)\n",
    "fig.show()"
   ]
  },
  {
   "cell_type": "markdown",
   "id": "b43e3e1a",
   "metadata": {
    "papermill": {
     "duration": 0.011137,
     "end_time": "2023-09-04T19:10:02.029268",
     "exception": false,
     "start_time": "2023-09-04T19:10:02.018131",
     "status": "completed"
    },
    "tags": []
   },
   "source": [
    "Same can be sone with Consumption data."
   ]
  },
  {
   "cell_type": "code",
   "execution_count": null,
   "id": "961c7fe3",
   "metadata": {
    "_kg_hide-input": true,
    "execution": {
     "iopub.execute_input": "2023-09-04T19:10:02.054287Z",
     "iopub.status.busy": "2023-09-04T19:10:02.053137Z",
     "iopub.status.idle": "2023-09-04T19:10:02.853279Z",
     "shell.execute_reply": "2023-09-04T19:10:02.851866Z"
    },
    "papermill": {
     "duration": 0.815719,
     "end_time": "2023-09-04T19:10:02.856115",
     "exception": false,
     "start_time": "2023-09-04T19:10:02.040396",
     "status": "completed"
    },
    "tags": []
   },
   "outputs": [
    {
     "data": {
      "text/html": [
       "<div>                            <div id=\"3dac69a7-30f7-4aad-b4cf-c5e7b0bc93d5\" class=\"plotly-graph-div\" style=\"height:500px; width:800px;\"></div>            <script type=\"text/javascript\">                require([\"plotly\"], function(Plotly) {                    window.PLOTLYENV=window.PLOTLYENV || {};                                    if (document.getElementById(\"3dac69a7-30f7-4aad-b4cf-c5e7b0bc93d5\")) {                    Plotly.newPlot(                        \"3dac69a7-30f7-4aad-b4cf-c5e7b0bc93d5\",                        [{\"coloraxis\":\"coloraxis\",\"geo\":\"geo\",\"hovertemplate\":\"locations=%{location}\\u003cbr\\u003ecolor=%{z}\\u003cextra\\u003e\\u003c\\u002fextra\\u003e\",\"locations\":[\"DZA\",\"AGO\",\"BEN\",\"BWA\",\"BFA\",\"BDI\",\"CPV\",\"CMR\",\"CAF\",\"TCD\",\"COM\",\"COG\",\"COD\",\"CIV\",\"DJI\",\"EGY\",\"GNQ\",\"ERI\",\"SWZ\",\"ETH\",\"GAB\",\"GMB\",\"GHA\",\"GIN\",\"GNB\",\"KEN\",\"LSO\",\"LBR\",\"LBY\",\"MDG\",\"MWI\",\"MLI\",\"MRT\",\"MUS\",\"MAR\",\"MOZ\",\"NAM\",\"NER\",\"NGA\",\"REU\",\"RWA\",\"SHN\",\"STP\",\"SEN\",\"SYC\",\"SLE\",\"SOM\",\"ZAF\",\"SSD\",\"SDN\",\"TZA\",\"TGO\",\"TUN\",\"UGA\",\"ESH\",\"ZMB\",\"ZWE\",\"ARM\",\"AZE\",\"BLR\",\"GEO\",\"KAZ\",\"KGZ\",\"MDA\",\"RUS\",\"TJK\",\"TKM\",\"UKR\",\"UZB\",\"ALB\",\"AUT\",\"BEL\",\"BIH\",\"BGR\",\"HRV\",\"CYP\",\"CZE\",\"DNK\",\"EST\",\"FRO\",\"FIN\",\"FRA\",\"DEU\",\"GIB\",\"GRC\",\"HUN\",\"ISL\",\"IRL\",\"ITA\",\"XKX\",\"LVA\",\"LTU\",\"LUX\",\"MLT\",\"MNE\",\"NLD\",\"MKD\",\"NOR\",\"POL\",\"PRT\",\"ROU\",\"SRB\",\"SVK\",\"SVN\",\"ESP\",\"SWE\",\"CHE\",\"TUR\",\"GBR\",\"AFG\",\"ASM\",\"AUS\",\"BGD\",\"BTN\",\"BRN\",\"MMR\",\"KHM\",\"CHN\",\"COK\",\"FJI\",\"PYF\",\"GUM\",\"HKG\",\"IND\",\"IDN\",\"JPN\",\"KIR\",\"LAO\",\"MAC\",\"MYS\",\"MDV\",\"FSM\",\"MNG\",\"NRU\",\"NPL\",\"NCL\",\"NZL\",\"NIU\",\"PRK\",\"PAK\",\"PNG\",\"PHL\",\"not found\",\"SGP\",\"SLB\",\"KOR\",\"LKA\",\"TWN\",\"THA\",\"TLS\",\"TON\",\"TUV\",\"not found\",\"VUT\",\"VNM\",\"not found\",\"BHR\",\"IRN\",\"IRQ\",\"ISR\",\"JOR\",\"KWT\",\"LBN\",\"OMN\",\"PSE\",\"QAT\",\"SAU\",\"SYR\",\"ARE\",\"YEM\",\"BMU\",\"CAN\",\"GRL\",\"MEX\",\"SPM\",\"not found\",\"USA\",\"ATA\",\"ATG\",\"ARG\",\"ABW\",\"BRB\",\"BLZ\",\"BOL\",\"BRA\",\"VGB\",\"CYM\",\"CHL\",\"COL\",\"CRI\",\"CUB\",\"DMA\",\"DOM\",\"ECU\",\"SLV\",\"FLK\",\"GUF\",\"GRD\",\"GLP\",\"GTM\",\"GUY\",\"HTI\",\"HND\",\"JAM\",\"MTQ\",\"MSR\",\"not found\",\"NIC\",\"PAN\",\"PRY\",\"PER\",\"PRI\",\"KNA\",\"LCA\",\"VCT\",\"SUR\",\"BHS\",\"TTO\",\"TCA\",\"VIR\",\"URY\",\"VEN\"],\"name\":\"\",\"z\":[68.66337919,14.56049071,0.523382994,3.35303816,2.642688237,0.417981972,0.321463467,6.084346389,0.141064,0.263581184,0.101814786,2.214975806,8.920147734,7.977315028,0.468196929,168.3228366,1.269944203,0.404890124,1.495128269,9.520959162,2.351990662,0.237916525,18.27374496,2.481586351,0.076457786,9.061198138,0.902244103,0.871109839,27.18002723,1.955814061,0.964462345,2.678220623,1.855855218,2.742610665,35.38603385,13.48867831,3.434334454,1.27920845,26.595583,0.0,0.692177964,0.007244152,0.088663497,5.299708528,0.6131768,0.130889733,0.392563143,191.4408006,0.54690729,13.24149591,7.193058291,1.240065047,16.47929688,3.07311486,0.0,14.32075156,8.340104173,6.13238676,24.618773,40.83656734,13.39998476,96.58101004,11.77158864,9.6678,996.4429162,15.67030669,15.23232021,134.2524318,57.83014726,7.415870874,68.5343248,83.4132299,11.4477785,30.32132826,15.93211966,4.659154866,61.914601,38.1825901,8.8419177,0.397132418,83.7249711,447.4470538,511.6603884,0.200984867,52.1395064,43.9138754,18.7089881,32.6454046,299.9218318,5.550981154,6.9167337,11.8215147,6.4955446,2.4946277,2.890510285,113.2784676,6.732141077,130.8432097,158.1944616,47.7430319,50.52736748,31.08700068,26.1033634,13.7271202,233.9770099,130.7561128,57.6972307,284.2542337,287.3188985,5.530597212,0.155598053,237.485875,77.67773423,3.268873742,4.245993947,17.31460198,10.90708477,7805.656341,0.03946,1.027828785,0.649411907,1.729080013,46.32022044,1442.750051,281.5298376,913.0781497,0.0290778,6.065839386,5.629531551,150.7613646,0.639484441,null,7.750090242,0.037426351,7.245611302,3.296477019,40.51547044,0.003307615,12.10801386,132.3234316,4.563458391,98.46767231,0.162506587,52.91064061,0.096444086,567.6724331,14.85574145,278.146543,202.5913037,0.430617159,0.07202576,null,0.489689203,0.065950234,228.9733093,0.0,31.37811543,301.9687305,52.73421624,63.358029,19.68910483,64.57876384,18.85709846,32.7798173,6.23388887,44.61817631,329.0072713,12.75392781,128.61007,2.931320206,0.539310022,554.7443874,0.582709742,300.9570645,0.053198517,null,3979.279761,0.0,0.28587519,126.7355285,0.7676192,1.005727309,0.925221695,9.676011123,577.2953567,0.117269621,0.702392687,81.4005473,76.1928486,10.659704,16.26872091,0.16299964,15.42583555,26.60766825,6.424477451,0.019132136,0.0,0.198807688,0.0,12.82267342,0.980883161,0.365929086,8.157778012,3.19920181,0.0,0.01448104,0.764007905,4.929996152,9.488975158,7.677260571,51.762119,17.12121736,0.175865022,0.326964342,0.154165575,2.370408283,1.97622619,8.303561981,0.25976828,0.6415072,13.61377336,71.04766385],\"type\":\"choropleth\"}],                        {\"template\":{\"data\":{\"histogram2dcontour\":[{\"type\":\"histogram2dcontour\",\"colorbar\":{\"outlinewidth\":0,\"ticks\":\"\"},\"colorscale\":[[0.0,\"#0d0887\"],[0.1111111111111111,\"#46039f\"],[0.2222222222222222,\"#7201a8\"],[0.3333333333333333,\"#9c179e\"],[0.4444444444444444,\"#bd3786\"],[0.5555555555555556,\"#d8576b\"],[0.6666666666666666,\"#ed7953\"],[0.7777777777777778,\"#fb9f3a\"],[0.8888888888888888,\"#fdca26\"],[1.0,\"#f0f921\"]]}],\"choropleth\":[{\"type\":\"choropleth\",\"colorbar\":{\"outlinewidth\":0,\"ticks\":\"\"}}],\"histogram2d\":[{\"type\":\"histogram2d\",\"colorbar\":{\"outlinewidth\":0,\"ticks\":\"\"},\"colorscale\":[[0.0,\"#0d0887\"],[0.1111111111111111,\"#46039f\"],[0.2222222222222222,\"#7201a8\"],[0.3333333333333333,\"#9c179e\"],[0.4444444444444444,\"#bd3786\"],[0.5555555555555556,\"#d8576b\"],[0.6666666666666666,\"#ed7953\"],[0.7777777777777778,\"#fb9f3a\"],[0.8888888888888888,\"#fdca26\"],[1.0,\"#f0f921\"]]}],\"heatmap\":[{\"type\":\"heatmap\",\"colorbar\":{\"outlinewidth\":0,\"ticks\":\"\"},\"colorscale\":[[0.0,\"#0d0887\"],[0.1111111111111111,\"#46039f\"],[0.2222222222222222,\"#7201a8\"],[0.3333333333333333,\"#9c179e\"],[0.4444444444444444,\"#bd3786\"],[0.5555555555555556,\"#d8576b\"],[0.6666666666666666,\"#ed7953\"],[0.7777777777777778,\"#fb9f3a\"],[0.8888888888888888,\"#fdca26\"],[1.0,\"#f0f921\"]]}],\"heatmapgl\":[{\"type\":\"heatmapgl\",\"colorbar\":{\"outlinewidth\":0,\"ticks\":\"\"},\"colorscale\":[[0.0,\"#0d0887\"],[0.1111111111111111,\"#46039f\"],[0.2222222222222222,\"#7201a8\"],[0.3333333333333333,\"#9c179e\"],[0.4444444444444444,\"#bd3786\"],[0.5555555555555556,\"#d8576b\"],[0.6666666666666666,\"#ed7953\"],[0.7777777777777778,\"#fb9f3a\"],[0.8888888888888888,\"#fdca26\"],[1.0,\"#f0f921\"]]}],\"contourcarpet\":[{\"type\":\"contourcarpet\",\"colorbar\":{\"outlinewidth\":0,\"ticks\":\"\"}}],\"contour\":[{\"type\":\"contour\",\"colorbar\":{\"outlinewidth\":0,\"ticks\":\"\"},\"colorscale\":[[0.0,\"#0d0887\"],[0.1111111111111111,\"#46039f\"],[0.2222222222222222,\"#7201a8\"],[0.3333333333333333,\"#9c179e\"],[0.4444444444444444,\"#bd3786\"],[0.5555555555555556,\"#d8576b\"],[0.6666666666666666,\"#ed7953\"],[0.7777777777777778,\"#fb9f3a\"],[0.8888888888888888,\"#fdca26\"],[1.0,\"#f0f921\"]]}],\"surface\":[{\"type\":\"surface\",\"colorbar\":{\"outlinewidth\":0,\"ticks\":\"\"},\"colorscale\":[[0.0,\"#0d0887\"],[0.1111111111111111,\"#46039f\"],[0.2222222222222222,\"#7201a8\"],[0.3333333333333333,\"#9c179e\"],[0.4444444444444444,\"#bd3786\"],[0.5555555555555556,\"#d8576b\"],[0.6666666666666666,\"#ed7953\"],[0.7777777777777778,\"#fb9f3a\"],[0.8888888888888888,\"#fdca26\"],[1.0,\"#f0f921\"]]}],\"mesh3d\":[{\"type\":\"mesh3d\",\"colorbar\":{\"outlinewidth\":0,\"ticks\":\"\"}}],\"scatter\":[{\"marker\":{\"line\":{\"color\":\"#283442\"}},\"type\":\"scatter\"}],\"parcoords\":[{\"type\":\"parcoords\",\"line\":{\"colorbar\":{\"outlinewidth\":0,\"ticks\":\"\"}}}],\"scatterpolargl\":[{\"type\":\"scatterpolargl\",\"marker\":{\"colorbar\":{\"outlinewidth\":0,\"ticks\":\"\"}}}],\"bar\":[{\"error_x\":{\"color\":\"#f2f5fa\"},\"error_y\":{\"color\":\"#f2f5fa\"},\"marker\":{\"line\":{\"color\":\"rgb(17,17,17)\",\"width\":0.5},\"pattern\":{\"fillmode\":\"overlay\",\"size\":10,\"solidity\":0.2}},\"type\":\"bar\"}],\"scattergeo\":[{\"type\":\"scattergeo\",\"marker\":{\"colorbar\":{\"outlinewidth\":0,\"ticks\":\"\"}}}],\"scatterpolar\":[{\"type\":\"scatterpolar\",\"marker\":{\"colorbar\":{\"outlinewidth\":0,\"ticks\":\"\"}}}],\"histogram\":[{\"marker\":{\"pattern\":{\"fillmode\":\"overlay\",\"size\":10,\"solidity\":0.2}},\"type\":\"histogram\"}],\"scattergl\":[{\"marker\":{\"line\":{\"color\":\"#283442\"}},\"type\":\"scattergl\"}],\"scatter3d\":[{\"type\":\"scatter3d\",\"line\":{\"colorbar\":{\"outlinewidth\":0,\"ticks\":\"\"}},\"marker\":{\"colorbar\":{\"outlinewidth\":0,\"ticks\":\"\"}}}],\"scattermapbox\":[{\"type\":\"scattermapbox\",\"marker\":{\"colorbar\":{\"outlinewidth\":0,\"ticks\":\"\"}}}],\"scatterternary\":[{\"type\":\"scatterternary\",\"marker\":{\"colorbar\":{\"outlinewidth\":0,\"ticks\":\"\"}}}],\"scattercarpet\":[{\"type\":\"scattercarpet\",\"marker\":{\"colorbar\":{\"outlinewidth\":0,\"ticks\":\"\"}}}],\"carpet\":[{\"aaxis\":{\"endlinecolor\":\"#A2B1C6\",\"gridcolor\":\"#506784\",\"linecolor\":\"#506784\",\"minorgridcolor\":\"#506784\",\"startlinecolor\":\"#A2B1C6\"},\"baxis\":{\"endlinecolor\":\"#A2B1C6\",\"gridcolor\":\"#506784\",\"linecolor\":\"#506784\",\"minorgridcolor\":\"#506784\",\"startlinecolor\":\"#A2B1C6\"},\"type\":\"carpet\"}],\"table\":[{\"cells\":{\"fill\":{\"color\":\"#506784\"},\"line\":{\"color\":\"rgb(17,17,17)\"}},\"header\":{\"fill\":{\"color\":\"#2a3f5f\"},\"line\":{\"color\":\"rgb(17,17,17)\"}},\"type\":\"table\"}],\"barpolar\":[{\"marker\":{\"line\":{\"color\":\"rgb(17,17,17)\",\"width\":0.5},\"pattern\":{\"fillmode\":\"overlay\",\"size\":10,\"solidity\":0.2}},\"type\":\"barpolar\"}],\"pie\":[{\"automargin\":true,\"type\":\"pie\"}]},\"layout\":{\"autotypenumbers\":\"strict\",\"colorway\":[\"#636efa\",\"#EF553B\",\"#00cc96\",\"#ab63fa\",\"#FFA15A\",\"#19d3f3\",\"#FF6692\",\"#B6E880\",\"#FF97FF\",\"#FECB52\"],\"font\":{\"color\":\"#f2f5fa\"},\"hovermode\":\"closest\",\"hoverlabel\":{\"align\":\"left\"},\"paper_bgcolor\":\"rgb(17,17,17)\",\"plot_bgcolor\":\"rgb(17,17,17)\",\"polar\":{\"bgcolor\":\"rgb(17,17,17)\",\"angularaxis\":{\"gridcolor\":\"#506784\",\"linecolor\":\"#506784\",\"ticks\":\"\"},\"radialaxis\":{\"gridcolor\":\"#506784\",\"linecolor\":\"#506784\",\"ticks\":\"\"}},\"ternary\":{\"bgcolor\":\"rgb(17,17,17)\",\"aaxis\":{\"gridcolor\":\"#506784\",\"linecolor\":\"#506784\",\"ticks\":\"\"},\"baxis\":{\"gridcolor\":\"#506784\",\"linecolor\":\"#506784\",\"ticks\":\"\"},\"caxis\":{\"gridcolor\":\"#506784\",\"linecolor\":\"#506784\",\"ticks\":\"\"}},\"coloraxis\":{\"colorbar\":{\"outlinewidth\":0,\"ticks\":\"\"}},\"colorscale\":{\"sequential\":[[0.0,\"#0d0887\"],[0.1111111111111111,\"#46039f\"],[0.2222222222222222,\"#7201a8\"],[0.3333333333333333,\"#9c179e\"],[0.4444444444444444,\"#bd3786\"],[0.5555555555555556,\"#d8576b\"],[0.6666666666666666,\"#ed7953\"],[0.7777777777777778,\"#fb9f3a\"],[0.8888888888888888,\"#fdca26\"],[1.0,\"#f0f921\"]],\"sequentialminus\":[[0.0,\"#0d0887\"],[0.1111111111111111,\"#46039f\"],[0.2222222222222222,\"#7201a8\"],[0.3333333333333333,\"#9c179e\"],[0.4444444444444444,\"#bd3786\"],[0.5555555555555556,\"#d8576b\"],[0.6666666666666666,\"#ed7953\"],[0.7777777777777778,\"#fb9f3a\"],[0.8888888888888888,\"#fdca26\"],[1.0,\"#f0f921\"]],\"diverging\":[[0,\"#8e0152\"],[0.1,\"#c51b7d\"],[0.2,\"#de77ae\"],[0.3,\"#f1b6da\"],[0.4,\"#fde0ef\"],[0.5,\"#f7f7f7\"],[0.6,\"#e6f5d0\"],[0.7,\"#b8e186\"],[0.8,\"#7fbc41\"],[0.9,\"#4d9221\"],[1,\"#276419\"]]},\"xaxis\":{\"gridcolor\":\"#283442\",\"linecolor\":\"#506784\",\"ticks\":\"\",\"title\":{\"standoff\":15},\"zerolinecolor\":\"#283442\",\"automargin\":true,\"zerolinewidth\":2},\"yaxis\":{\"gridcolor\":\"#283442\",\"linecolor\":\"#506784\",\"ticks\":\"\",\"title\":{\"standoff\":15},\"zerolinecolor\":\"#283442\",\"automargin\":true,\"zerolinewidth\":2},\"scene\":{\"xaxis\":{\"backgroundcolor\":\"rgb(17,17,17)\",\"gridcolor\":\"#506784\",\"linecolor\":\"#506784\",\"showbackground\":true,\"ticks\":\"\",\"zerolinecolor\":\"#C8D4E3\",\"gridwidth\":2},\"yaxis\":{\"backgroundcolor\":\"rgb(17,17,17)\",\"gridcolor\":\"#506784\",\"linecolor\":\"#506784\",\"showbackground\":true,\"ticks\":\"\",\"zerolinecolor\":\"#C8D4E3\",\"gridwidth\":2},\"zaxis\":{\"backgroundcolor\":\"rgb(17,17,17)\",\"gridcolor\":\"#506784\",\"linecolor\":\"#506784\",\"showbackground\":true,\"ticks\":\"\",\"zerolinecolor\":\"#C8D4E3\",\"gridwidth\":2}},\"shapedefaults\":{\"line\":{\"color\":\"#f2f5fa\"}},\"annotationdefaults\":{\"arrowcolor\":\"#f2f5fa\",\"arrowhead\":0,\"arrowwidth\":1},\"geo\":{\"bgcolor\":\"rgb(17,17,17)\",\"landcolor\":\"rgb(17,17,17)\",\"subunitcolor\":\"#506784\",\"showland\":true,\"showlakes\":true,\"lakecolor\":\"rgb(17,17,17)\"},\"title\":{\"x\":0.05},\"updatemenudefaults\":{\"bgcolor\":\"#506784\",\"borderwidth\":0},\"sliderdefaults\":{\"bgcolor\":\"#C8D4E3\",\"borderwidth\":1,\"bordercolor\":\"rgb(17,17,17)\",\"tickwidth\":0},\"mapbox\":{\"style\":\"dark\"}}},\"geo\":{\"domain\":{\"x\":[0.0,1.0],\"y\":[0.0,1.0]},\"center\":{}},\"coloraxis\":{\"colorbar\":{\"title\":{\"text\":\"color\"}},\"colorscale\":[[0,\"#0d0887\"],[0.01,\"#46039f\"],[0.03,\"#7201a8\"],[0.5,\"#9c179e\"],[0.7,\"#bd3786\"],[0.9,\"#d8576b\"],[1,\"#ed7953\"]],\"cmin\":0,\"cmax\":1500},\"legend\":{\"tracegroupgap\":0},\"title\":{\"text\":\"Global Electricity Consumption in 2021\"},\"height\":500,\"width\":800},                        {\"responsive\": true}                    ).then(function(){\n",
       "                            \n",
       "var gd = document.getElementById('3dac69a7-30f7-4aad-b4cf-c5e7b0bc93d5');\n",
       "var x = new MutationObserver(function (mutations, observer) {{\n",
       "        var display = window.getComputedStyle(gd).display;\n",
       "        if (!display || display === 'none') {{\n",
       "            console.log([gd, 'removed!']);\n",
       "            Plotly.purge(gd);\n",
       "            observer.disconnect();\n",
       "        }}\n",
       "}});\n",
       "\n",
       "// Listen for the removal of the full notebook cells\n",
       "var notebookContainer = gd.closest('#notebook-container');\n",
       "if (notebookContainer) {{\n",
       "    x.observe(notebookContainer, {childList: true});\n",
       "}}\n",
       "\n",
       "// Listen for the clearing of the current output cell\n",
       "var outputEl = gd.closest('.output');\n",
       "if (outputEl) {{\n",
       "    x.observe(outputEl, {childList: true});\n",
       "}}\n",
       "\n",
       "                        })                };                });            </script>        </div>"
      ]
     },
     "metadata": {},
     "output_type": "display_data"
    }
   ],
   "source": [
    "consumption = data[(data['Features'] == 'net consumption')]\n",
    "\n",
    "plot = consumption.filter(['Country', '2021'], axis=1)\n",
    "plot2 = plot.rename(columns={'2021':'Net_Consumption'})\n",
    "\n",
    "plot2 = plot2[~plot2[\"Net_Consumption\"].str.contains(\"ie\", na=False)]\n",
    "plot2 = plot2[~plot2[\"Net_Consumption\"].str.contains(\"--\", na=False)]\n",
    "plot2['Net_Consumption'] = plot2['Net_Consumption'].astype(float)\n",
    "\n",
    "standard_names = coco.convert(names = plot2['Country'], to='name_short')\n",
    "plot2.head()\n",
    "\n",
    "country = coco.convert(names = plot2['Country'], to = \"ISO3\")\n",
    "plot2['Country'] = country\n",
    "plot2.head()\n",
    "\n",
    "fig = px.choropleth(locations = plot2.Country,\n",
    "                    color = plot2.Net_Consumption,\n",
    "                    range_color=(0, 1500),\n",
    "                    color_continuous_scale = [[0, '#0d0887'],\n",
    "                      [0.01, '#46039f'],\n",
    "                      [0.03, '#7201a8'],\n",
    "                      [0.5, '#9c179e'],\n",
    "                      [0.7, '#bd3786'],\n",
    "                      [0.9, '#d8576b'],\n",
    "                      [1, '#ed7953']\n",
    "                     ],\n",
    "                    #  focus='south america',\n",
    "                    title = 'Global Electricity Consumption in 2021')\n",
    "fig.update_layout(height=500, width=800)\n",
    "fig.show()"
   ]
  },
  {
   "cell_type": "code",
   "execution_count": null,
   "id": "723acefb",
   "metadata": {
    "_kg_hide-input": true,
    "execution": {
     "iopub.execute_input": "2023-09-04T19:10:02.882668Z",
     "iopub.status.busy": "2023-09-04T19:10:02.881941Z",
     "iopub.status.idle": "2023-09-04T19:10:03.004418Z",
     "shell.execute_reply": "2023-09-04T19:10:03.003499Z"
    },
    "papermill": {
     "duration": 0.138462,
     "end_time": "2023-09-04T19:10:03.006778",
     "exception": false,
     "start_time": "2023-09-04T19:10:02.868316",
     "status": "completed"
    },
    "tags": []
   },
   "outputs": [
    {
     "data": {
      "text/html": [
       "<div>                            <div id=\"951880ca-6811-4b0e-8304-9c5c6845d523\" class=\"plotly-graph-div\" style=\"height:500px; width:800px;\"></div>            <script type=\"text/javascript\">                require([\"plotly\"], function(Plotly) {                    window.PLOTLYENV=window.PLOTLYENV || {};                                    if (document.getElementById(\"951880ca-6811-4b0e-8304-9c5c6845d523\")) {                    Plotly.newPlot(                        \"951880ca-6811-4b0e-8304-9c5c6845d523\",                        [{\"alignmentgroup\":\"True\",\"hovertemplate\":\"Countries=%{x}\\u003cbr\\u003eImports=%{y}\\u003cextra\\u003e\\u003c\\u002fextra\\u003e\",\"legendgroup\":\"\",\"marker\":{\"color\":\"#636efa\",\"pattern\":{\"shape\":\"\"}},\"name\":\"\",\"offsetgroup\":\"\",\"orientation\":\"v\",\"showlegend\":false,\"textposition\":\"auto\",\"x\":[\"        United States\",\"        Germany\",\"        Italy\",\"        Switzerland\",\"        Thailand\",\"        United Kingdom\",\"        Austria\",\"        France\",\"        Finland\",\"        Brazil\"],\"xaxis\":\"x\",\"y\":[53.166585,51.335563,46.5644406,31.626,31.29333623,28.742918,26.4361928,24.5321058,23.999141,23.147],\"yaxis\":\"y\",\"type\":\"bar\"}],                        {\"template\":{\"data\":{\"histogram2dcontour\":[{\"type\":\"histogram2dcontour\",\"colorbar\":{\"outlinewidth\":0,\"ticks\":\"\"},\"colorscale\":[[0.0,\"#0d0887\"],[0.1111111111111111,\"#46039f\"],[0.2222222222222222,\"#7201a8\"],[0.3333333333333333,\"#9c179e\"],[0.4444444444444444,\"#bd3786\"],[0.5555555555555556,\"#d8576b\"],[0.6666666666666666,\"#ed7953\"],[0.7777777777777778,\"#fb9f3a\"],[0.8888888888888888,\"#fdca26\"],[1.0,\"#f0f921\"]]}],\"choropleth\":[{\"type\":\"choropleth\",\"colorbar\":{\"outlinewidth\":0,\"ticks\":\"\"}}],\"histogram2d\":[{\"type\":\"histogram2d\",\"colorbar\":{\"outlinewidth\":0,\"ticks\":\"\"},\"colorscale\":[[0.0,\"#0d0887\"],[0.1111111111111111,\"#46039f\"],[0.2222222222222222,\"#7201a8\"],[0.3333333333333333,\"#9c179e\"],[0.4444444444444444,\"#bd3786\"],[0.5555555555555556,\"#d8576b\"],[0.6666666666666666,\"#ed7953\"],[0.7777777777777778,\"#fb9f3a\"],[0.8888888888888888,\"#fdca26\"],[1.0,\"#f0f921\"]]}],\"heatmap\":[{\"type\":\"heatmap\",\"colorbar\":{\"outlinewidth\":0,\"ticks\":\"\"},\"colorscale\":[[0.0,\"#0d0887\"],[0.1111111111111111,\"#46039f\"],[0.2222222222222222,\"#7201a8\"],[0.3333333333333333,\"#9c179e\"],[0.4444444444444444,\"#bd3786\"],[0.5555555555555556,\"#d8576b\"],[0.6666666666666666,\"#ed7953\"],[0.7777777777777778,\"#fb9f3a\"],[0.8888888888888888,\"#fdca26\"],[1.0,\"#f0f921\"]]}],\"heatmapgl\":[{\"type\":\"heatmapgl\",\"colorbar\":{\"outlinewidth\":0,\"ticks\":\"\"},\"colorscale\":[[0.0,\"#0d0887\"],[0.1111111111111111,\"#46039f\"],[0.2222222222222222,\"#7201a8\"],[0.3333333333333333,\"#9c179e\"],[0.4444444444444444,\"#bd3786\"],[0.5555555555555556,\"#d8576b\"],[0.6666666666666666,\"#ed7953\"],[0.7777777777777778,\"#fb9f3a\"],[0.8888888888888888,\"#fdca26\"],[1.0,\"#f0f921\"]]}],\"contourcarpet\":[{\"type\":\"contourcarpet\",\"colorbar\":{\"outlinewidth\":0,\"ticks\":\"\"}}],\"contour\":[{\"type\":\"contour\",\"colorbar\":{\"outlinewidth\":0,\"ticks\":\"\"},\"colorscale\":[[0.0,\"#0d0887\"],[0.1111111111111111,\"#46039f\"],[0.2222222222222222,\"#7201a8\"],[0.3333333333333333,\"#9c179e\"],[0.4444444444444444,\"#bd3786\"],[0.5555555555555556,\"#d8576b\"],[0.6666666666666666,\"#ed7953\"],[0.7777777777777778,\"#fb9f3a\"],[0.8888888888888888,\"#fdca26\"],[1.0,\"#f0f921\"]]}],\"surface\":[{\"type\":\"surface\",\"colorbar\":{\"outlinewidth\":0,\"ticks\":\"\"},\"colorscale\":[[0.0,\"#0d0887\"],[0.1111111111111111,\"#46039f\"],[0.2222222222222222,\"#7201a8\"],[0.3333333333333333,\"#9c179e\"],[0.4444444444444444,\"#bd3786\"],[0.5555555555555556,\"#d8576b\"],[0.6666666666666666,\"#ed7953\"],[0.7777777777777778,\"#fb9f3a\"],[0.8888888888888888,\"#fdca26\"],[1.0,\"#f0f921\"]]}],\"mesh3d\":[{\"type\":\"mesh3d\",\"colorbar\":{\"outlinewidth\":0,\"ticks\":\"\"}}],\"scatter\":[{\"marker\":{\"line\":{\"color\":\"#283442\"}},\"type\":\"scatter\"}],\"parcoords\":[{\"type\":\"parcoords\",\"line\":{\"colorbar\":{\"outlinewidth\":0,\"ticks\":\"\"}}}],\"scatterpolargl\":[{\"type\":\"scatterpolargl\",\"marker\":{\"colorbar\":{\"outlinewidth\":0,\"ticks\":\"\"}}}],\"bar\":[{\"error_x\":{\"color\":\"#f2f5fa\"},\"error_y\":{\"color\":\"#f2f5fa\"},\"marker\":{\"line\":{\"color\":\"rgb(17,17,17)\",\"width\":0.5},\"pattern\":{\"fillmode\":\"overlay\",\"size\":10,\"solidity\":0.2}},\"type\":\"bar\"}],\"scattergeo\":[{\"type\":\"scattergeo\",\"marker\":{\"colorbar\":{\"outlinewidth\":0,\"ticks\":\"\"}}}],\"scatterpolar\":[{\"type\":\"scatterpolar\",\"marker\":{\"colorbar\":{\"outlinewidth\":0,\"ticks\":\"\"}}}],\"histogram\":[{\"marker\":{\"pattern\":{\"fillmode\":\"overlay\",\"size\":10,\"solidity\":0.2}},\"type\":\"histogram\"}],\"scattergl\":[{\"marker\":{\"line\":{\"color\":\"#283442\"}},\"type\":\"scattergl\"}],\"scatter3d\":[{\"type\":\"scatter3d\",\"line\":{\"colorbar\":{\"outlinewidth\":0,\"ticks\":\"\"}},\"marker\":{\"colorbar\":{\"outlinewidth\":0,\"ticks\":\"\"}}}],\"scattermapbox\":[{\"type\":\"scattermapbox\",\"marker\":{\"colorbar\":{\"outlinewidth\":0,\"ticks\":\"\"}}}],\"scatterternary\":[{\"type\":\"scatterternary\",\"marker\":{\"colorbar\":{\"outlinewidth\":0,\"ticks\":\"\"}}}],\"scattercarpet\":[{\"type\":\"scattercarpet\",\"marker\":{\"colorbar\":{\"outlinewidth\":0,\"ticks\":\"\"}}}],\"carpet\":[{\"aaxis\":{\"endlinecolor\":\"#A2B1C6\",\"gridcolor\":\"#506784\",\"linecolor\":\"#506784\",\"minorgridcolor\":\"#506784\",\"startlinecolor\":\"#A2B1C6\"},\"baxis\":{\"endlinecolor\":\"#A2B1C6\",\"gridcolor\":\"#506784\",\"linecolor\":\"#506784\",\"minorgridcolor\":\"#506784\",\"startlinecolor\":\"#A2B1C6\"},\"type\":\"carpet\"}],\"table\":[{\"cells\":{\"fill\":{\"color\":\"#506784\"},\"line\":{\"color\":\"rgb(17,17,17)\"}},\"header\":{\"fill\":{\"color\":\"#2a3f5f\"},\"line\":{\"color\":\"rgb(17,17,17)\"}},\"type\":\"table\"}],\"barpolar\":[{\"marker\":{\"line\":{\"color\":\"rgb(17,17,17)\",\"width\":0.5},\"pattern\":{\"fillmode\":\"overlay\",\"size\":10,\"solidity\":0.2}},\"type\":\"barpolar\"}],\"pie\":[{\"automargin\":true,\"type\":\"pie\"}]},\"layout\":{\"autotypenumbers\":\"strict\",\"colorway\":[\"#636efa\",\"#EF553B\",\"#00cc96\",\"#ab63fa\",\"#FFA15A\",\"#19d3f3\",\"#FF6692\",\"#B6E880\",\"#FF97FF\",\"#FECB52\"],\"font\":{\"color\":\"#f2f5fa\"},\"hovermode\":\"closest\",\"hoverlabel\":{\"align\":\"left\"},\"paper_bgcolor\":\"rgb(17,17,17)\",\"plot_bgcolor\":\"rgb(17,17,17)\",\"polar\":{\"bgcolor\":\"rgb(17,17,17)\",\"angularaxis\":{\"gridcolor\":\"#506784\",\"linecolor\":\"#506784\",\"ticks\":\"\"},\"radialaxis\":{\"gridcolor\":\"#506784\",\"linecolor\":\"#506784\",\"ticks\":\"\"}},\"ternary\":{\"bgcolor\":\"rgb(17,17,17)\",\"aaxis\":{\"gridcolor\":\"#506784\",\"linecolor\":\"#506784\",\"ticks\":\"\"},\"baxis\":{\"gridcolor\":\"#506784\",\"linecolor\":\"#506784\",\"ticks\":\"\"},\"caxis\":{\"gridcolor\":\"#506784\",\"linecolor\":\"#506784\",\"ticks\":\"\"}},\"coloraxis\":{\"colorbar\":{\"outlinewidth\":0,\"ticks\":\"\"}},\"colorscale\":{\"sequential\":[[0.0,\"#0d0887\"],[0.1111111111111111,\"#46039f\"],[0.2222222222222222,\"#7201a8\"],[0.3333333333333333,\"#9c179e\"],[0.4444444444444444,\"#bd3786\"],[0.5555555555555556,\"#d8576b\"],[0.6666666666666666,\"#ed7953\"],[0.7777777777777778,\"#fb9f3a\"],[0.8888888888888888,\"#fdca26\"],[1.0,\"#f0f921\"]],\"sequentialminus\":[[0.0,\"#0d0887\"],[0.1111111111111111,\"#46039f\"],[0.2222222222222222,\"#7201a8\"],[0.3333333333333333,\"#9c179e\"],[0.4444444444444444,\"#bd3786\"],[0.5555555555555556,\"#d8576b\"],[0.6666666666666666,\"#ed7953\"],[0.7777777777777778,\"#fb9f3a\"],[0.8888888888888888,\"#fdca26\"],[1.0,\"#f0f921\"]],\"diverging\":[[0,\"#8e0152\"],[0.1,\"#c51b7d\"],[0.2,\"#de77ae\"],[0.3,\"#f1b6da\"],[0.4,\"#fde0ef\"],[0.5,\"#f7f7f7\"],[0.6,\"#e6f5d0\"],[0.7,\"#b8e186\"],[0.8,\"#7fbc41\"],[0.9,\"#4d9221\"],[1,\"#276419\"]]},\"xaxis\":{\"gridcolor\":\"#283442\",\"linecolor\":\"#506784\",\"ticks\":\"\",\"title\":{\"standoff\":15},\"zerolinecolor\":\"#283442\",\"automargin\":true,\"zerolinewidth\":2},\"yaxis\":{\"gridcolor\":\"#283442\",\"linecolor\":\"#506784\",\"ticks\":\"\",\"title\":{\"standoff\":15},\"zerolinecolor\":\"#283442\",\"automargin\":true,\"zerolinewidth\":2},\"scene\":{\"xaxis\":{\"backgroundcolor\":\"rgb(17,17,17)\",\"gridcolor\":\"#506784\",\"linecolor\":\"#506784\",\"showbackground\":true,\"ticks\":\"\",\"zerolinecolor\":\"#C8D4E3\",\"gridwidth\":2},\"yaxis\":{\"backgroundcolor\":\"rgb(17,17,17)\",\"gridcolor\":\"#506784\",\"linecolor\":\"#506784\",\"showbackground\":true,\"ticks\":\"\",\"zerolinecolor\":\"#C8D4E3\",\"gridwidth\":2},\"zaxis\":{\"backgroundcolor\":\"rgb(17,17,17)\",\"gridcolor\":\"#506784\",\"linecolor\":\"#506784\",\"showbackground\":true,\"ticks\":\"\",\"zerolinecolor\":\"#C8D4E3\",\"gridwidth\":2}},\"shapedefaults\":{\"line\":{\"color\":\"#f2f5fa\"}},\"annotationdefaults\":{\"arrowcolor\":\"#f2f5fa\",\"arrowhead\":0,\"arrowwidth\":1},\"geo\":{\"bgcolor\":\"rgb(17,17,17)\",\"landcolor\":\"rgb(17,17,17)\",\"subunitcolor\":\"#506784\",\"showland\":true,\"showlakes\":true,\"lakecolor\":\"rgb(17,17,17)\"},\"title\":{\"x\":0.05},\"updatemenudefaults\":{\"bgcolor\":\"#506784\",\"borderwidth\":0},\"sliderdefaults\":{\"bgcolor\":\"#C8D4E3\",\"borderwidth\":1,\"bordercolor\":\"rgb(17,17,17)\",\"tickwidth\":0},\"mapbox\":{\"style\":\"dark\"}}},\"xaxis\":{\"anchor\":\"y\",\"domain\":[0.0,1.0],\"title\":{\"text\":\"Countries\"}},\"yaxis\":{\"anchor\":\"x\",\"domain\":[0.0,1.0],\"title\":{\"text\":\"Imports\"}},\"legend\":{\"tracegroupgap\":0},\"title\":{\"text\":\"Top 10 Countries with the Highest Electricity Imports:\"},\"barmode\":\"relative\",\"height\":500,\"width\":800},                        {\"responsive\": true}                    ).then(function(){\n",
       "                            \n",
       "var gd = document.getElementById('951880ca-6811-4b0e-8304-9c5c6845d523');\n",
       "var x = new MutationObserver(function (mutations, observer) {{\n",
       "        var display = window.getComputedStyle(gd).display;\n",
       "        if (!display || display === 'none') {{\n",
       "            console.log([gd, 'removed!']);\n",
       "            Plotly.purge(gd);\n",
       "            observer.disconnect();\n",
       "        }}\n",
       "}});\n",
       "\n",
       "// Listen for the removal of the full notebook cells\n",
       "var notebookContainer = gd.closest('#notebook-container');\n",
       "if (notebookContainer) {{\n",
       "    x.observe(notebookContainer, {childList: true});\n",
       "}}\n",
       "\n",
       "// Listen for the clearing of the current output cell\n",
       "var outputEl = gd.closest('.output');\n",
       "if (outputEl) {{\n",
       "    x.observe(outputEl, {childList: true});\n",
       "}}\n",
       "\n",
       "                        })                };                });            </script>        </div>"
      ]
     },
     "metadata": {},
     "output_type": "display_data"
    }
   ],
   "source": [
    "imports = data[(data['Features'] == 'imports ')]\n",
    "exports = data[(data['Features'] == 'exports ')]\n",
    "\n",
    "plot = imports.filter(['Country', '2021'], axis=1)\n",
    "plot_1 = exports.filter(['Country', '2021'], axis=1)\n",
    "\n",
    "plot2 = plot.rename(columns={'2021':'Imports'})\n",
    "plot2_1 = plot.rename(columns={'2021':'Exports'})\n",
    "\n",
    "plot2 = plot2[~plot2[\"Imports\"].str.contains(\"ie\", na=False)]\n",
    "plot2 = plot2[~plot2[\"Imports\"].str.contains(\"--\", na=False)]\n",
    "plot2_1 = plot2_1[~plot2_1[\"Exports\"].str.contains(\"ie\", na=False)]\n",
    "plot2_1 = plot2_1[~plot2_1[\"Exports\"].str.contains(\"--\", na=False)]\n",
    "\n",
    "plot2['Imports'] = plot2['Imports'].astype(float)\n",
    "plot2_1['Exports'] = plot2_1['Exports'].astype(float)\n",
    "\n",
    "result = pd.concat([plot2, plot2_1], axis=1, join='inner')\n",
    "result.head()\n",
    "\n",
    "top_import = plot2[['Country', 'Imports']].sort_values(by=['Imports'], ascending=False).head(10)\n",
    "\n",
    "fig = px.bar(top_import, x='Country', y='Imports',labels={\n",
    "                     \"Country\": \"Countries\",\n",
    "                     \"Imports\": \"Imports\"\n",
    "                 },title='Top 10 Countries with the Highest Electricity Imports:', width=800, height=500)\n",
    "fig.show()"
   ]
  },
  {
   "cell_type": "markdown",
   "id": "06efe14b",
   "metadata": {
    "papermill": {
     "duration": 0.01224,
     "end_time": "2023-09-04T19:10:03.032595",
     "exception": false,
     "start_time": "2023-09-04T19:10:03.020355",
     "status": "completed"
    },
    "tags": []
   },
   "source": [
    "## To be Continued..."
   ]
  },
  {
   "cell_type": "code",
   "execution_count": null,
   "id": "05f09021",
   "metadata": {
    "papermill": {
     "duration": 0.013099,
     "end_time": "2023-09-04T19:10:03.058074",
     "exception": false,
     "start_time": "2023-09-04T19:10:03.044975",
     "status": "completed"
    },
    "tags": []
   },
   "outputs": [],
   "source": []
  }
 ],
 "kernelspec": {
  "display_name": "Python 3",
  "language": "python",
  "name": "python3"
 },
 "language_info": {
  "codemirror_mode": {
   "name": "ipython",
   "version": 3
  },
  "file_extension": ".py",
  "mimetype": "text/x-python",
  "name": "python",
  "nbconvert_exporter": "python",
  "pygments_lexer": "ipython3",
  "version": "3.6.4"
 },
 "metadata": {
  "kernelspec": {
   "display_name": "Python 3",
   "language": "python",
   "name": "python3"
  },
  "language_info": {
   "codemirror_mode": {
    "name": "ipython",
    "version": 3
   },
   "file_extension": ".py",
   "mimetype": "text/x-python",
   "name": "python",
   "nbconvert_exporter": "python",
   "pygments_lexer": "ipython3",
   "version": "3.11.6"
  },
  "papermill": {
   "default_parameters": {},
   "duration": 27.896648,
   "end_time": "2023-09-04T19:10:03.895185",
   "environment_variables": {},
   "exception": null,
   "input_path": "__notebook__.ipynb",
   "output_path": "__notebook__.ipynb",
   "parameters": {},
   "start_time": "2023-09-04T19:09:35.998537",
   "version": "2.4.0"
  }
 },
 "nbformat": 4,
 "nbformat_minor": 5
}
